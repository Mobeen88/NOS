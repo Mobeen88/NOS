{
 "cells": [
  {
   "cell_type": "code",
   "execution_count": 8,
   "metadata": {},
   "outputs": [
    {
     "name": "stdout",
     "output_type": "stream",
     "text": [
      "\n",
      "Tracing route to youtube-ui.l.google.com [216.58.212.238]\n",
      "over a maximum of 30 hops:\n",
      "\n",
      "  1     *        7 ms    14 ms  hyperhub.mynet [192.168.1.1] \n",
      "  2   252 ms     9 ms   434 ms  64.220.137.2.bcube.co.uk [137.220.64.2] \n",
      "  3     *        *        *     Request timed out.\n",
      "  4     *        *        *     Request timed out.\n",
      "  5     *        *        *     Request timed out.\n",
      "  6     *        *        *     Request timed out.\n",
      "  7     *     1231 ms    32 ms  216.239.41.193 \n",
      "  8   103 ms   305 ms    28 ms  216.239.41.241 \n",
      "  9   844 ms     *        *     ams16s22-in-f238.1e100.net [216.58.212.238] \n",
      " 10  1368 ms  1010 ms  1664 ms  ams16s22-in-f238.1e100.net [216.58.212.238] \n",
      "\n",
      "Trace complete.\n",
      "\n"
     ]
    }
   ],
   "source": [
    "import subprocess\n",
    "\n",
    "def tracert(domain):\n",
    "    try:\n",
    "        result = subprocess.run([\"tracert\", domain], capture_output=True, text=True)\n",
    "        print(result.stdout)\n",
    "    except FileNotFoundError:\n",
    "        print(\"tracert command not found. Make sure it's available.\")\n",
    "    except Exception as e:\n",
    "        print(f\"An error occurred: {e}\")\n",
    "        \n",
    "domain = input(\"Enter the website or IP address: \")\n",
    "tracert(domain)\n"
   ]
  },
  {
   "cell_type": "code",
   "execution_count": 6,
   "metadata": {},
   "outputs": [
    {
     "name": "stdout",
     "output_type": "stream",
     "text": [
      "HTTP/1.1 301 Moved Permanently\n",
      "Content-Type: application/binary\n",
      "X-Content-Type-Options: nosniff\n",
      "Cache-Control: no-cache, no-store, max-age=0, must-revalidate\n",
      "Pragma: no-cache\n",
      "Expires: Mon, 01 Jan 1990 00:00:00 GMT\n",
      "Date: Tue, 18 Mar 2025 17:26:00 GMT\n",
      "Location: https://www.youtube.com/\n",
      "Server: ESF\n",
      "Content-Length: 0\n",
      "X-XSS-Protection: 0\n",
      "X-Frame-Options: SAMEORIGIN\n",
      "\n",
      "\n"
     ]
    }
   ],
   "source": [
    "import socket\n",
    "\n",
    "client_socket = socket.socket(socket.AF_INET, socket.SOCK_STREAM)\n",
    "server_address = ('www.youtube.com', 80)\n",
    "\n",
    "client_socket.connect(server_address)\n",
    "request = \"GET / HTTP/1.1\\r\\nHost: www.youtube.com\\r\\n\\r\\n\"\n",
    "\n",
    "client_socket.send(request.encode())\n",
    "response = client_socket.recv(4096)\n",
    "\n",
    "print(response.decode())\n",
    "client_socket.close()\n"
   ]
  }
 ],
 "metadata": {
  "kernelspec": {
   "display_name": "dp4ai",
   "language": "python",
   "name": "dp4ai"
  },
  "language_info": {
   "codemirror_mode": {
    "name": "ipython",
    "version": 3
   },
   "file_extension": ".py",
   "mimetype": "text/x-python",
   "name": "python",
   "nbconvert_exporter": "python",
   "pygments_lexer": "ipython3",
   "version": "3.12.5"
  }
 },
 "nbformat": 4,
 "nbformat_minor": 2
}
