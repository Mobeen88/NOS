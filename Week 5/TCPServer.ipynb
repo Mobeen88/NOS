{
 "cells": [
  {
   "cell_type": "code",
   "execution_count": null,
   "metadata": {},
   "outputs": [
    {
     "name": "stdout",
     "output_type": "stream",
     "text": [
      "TCP Server is listening...\n",
      "Connected to ('127.0.0.1', 49396)\n",
      "Received message: yo\n",
      "File received successfully.\n"
     ]
    }
   ],
   "source": [
    "import socket\n",
    "\n",
    "server_socket = socket.socket(socket.AF_INET, socket.SOCK_STREAM)\n",
    "server_socket.bind(('localhost', 65432))\n",
    "server_socket.listen(1)\n",
    "\n",
    "print(\"TCP Server is listening...\")\n",
    "\n",
    "while True:\n",
    "    client_socket, client_address = server_socket.accept()\n",
    "    print(f\"Connected to {client_address}\")\n",
    "\n",
    "    message = client_socket.recv(1024).decode()\n",
    "    print(f\"Received message: {message}\")\n",
    "\n",
    "    client_socket.sendall(b\"ACK: \" + message.encode())\n",
    "\n",
    "    with open(\"received_file.txt\", 'wb') as f:\n",
    "        while True:\n",
    "            data = client_socket.recv(1024)\n",
    "            if not data:\n",
    "                break\n",
    "            f.write(data)\n",
    "            print(f\"Receiving file chunk...\")\n",
    "\n",
    "    print(\"File received successfully.\")\n",
    "    client_socket.close()\n"
   ]
  },
  {
   "cell_type": "code",
   "execution_count": null,
   "metadata": {},
   "outputs": [
    {
     "name": "stdout",
     "output_type": "stream",
     "text": [
      "TCP Server is listening...\n",
      "Connected to ('127.0.0.1', 49332)\n",
      "Received message: hello\n",
      "Expecting file of size: 0 bytes\n",
      "File received successfully.\n"
     ]
    }
   ],
   "source": [
    "import socket\n",
    "\n",
    "serverSocket = socket.socket(socket.AF_INET, socket.SOCK_STREAM)\n",
    "serverSocket.bind(('localhost', 65432))\n",
    "serverSocket.listen(1)\n",
    "\n",
    "print(\"TCP Server is listening...\")\n",
    "\n",
    "while True:\n",
    "    clientSocket, clientAddress = serverSocket.accept()\n",
    "    print(f\"Connected to {clientAddress}\")\n",
    "\n",
    "    # Receive and process the text message\n",
    "    message = clientSocket.recv(1024).decode()\n",
    "    print(f\"Received message: {message}\")\n",
    "    clientSocket.sendall(b\"ACK: \" + message.encode())\n",
    "\n",
    "    # Receive file size first\n",
    "    fileSize = int(clientSocket.recv(1024).decode())\n",
    "    print(f\"Expecting file of size: {fileSize} bytes\")\n",
    "\n",
    "    receivedSize = 0\n",
    "    with open(\"received_file.txt\", 'wb') as f:\n",
    "        while receivedSize < fileSize:\n",
    "            data = clientSocket.recv(1024)\n",
    "            if not data:\n",
    "                break\n",
    "            f.write(data)\n",
    "            receivedSize += len(data)\n",
    "            print(f\"Received {receivedSize}/{fileSize} bytes\")\n",
    "\n",
    "    print(\"File received successfully.\")\n",
    "    clientSocket.close()\n"
   ]
  },
  {
   "cell_type": "code",
   "execution_count": null,
   "metadata": {},
   "outputs": [
    {
     "name": "stdout",
     "output_type": "stream",
     "text": [
      "Chat Server is listening...\n",
      "('127.0.0.1', 65169): ad\n",
      "('127.0.0.1', 65169): asd\n",
      "('127.0.0.1', 65239): helo\n",
      "('127.0.0.1', 65239): there\n",
      "('127.0.0.1', 65239): sdfksdfjsk\n"
     ]
    }
   ],
   "source": [
    "import socket\n",
    "import threading\n",
    "\n",
    "clients = []\n",
    "\n",
    "def handleClient(clientSocket, clientAddress):\n",
    "    while True:\n",
    "        try:\n",
    "            message = clientSocket.recv(1024)\n",
    "            if not message:\n",
    "                break\n",
    "            print(f\"{clientAddress}: {message.decode()}\")\n",
    "            for client in clients:\n",
    "                if client != clientSocket:\n",
    "                    client.sendall(message)\n",
    "        except:\n",
    "            break\n",
    "\n",
    "    clients.remove(clientSocket)\n",
    "    clientSocket.close()\n",
    "\n",
    "serverSocket = socket.socket(socket.AF_INET, socket.SOCK_STREAM)\n",
    "serverSocket.bind(('localhost', 65432))\n",
    "serverSocket.listen(5)\n",
    "print(\"Chat Server is listening...\")\n",
    "\n",
    "while True:\n",
    "    clientSocket, clientAddress = serverSocket.accept()\n",
    "    clients.append(clientSocket)\n",
    "    threading.Thread(target=handleClient, args=(clientSocket, clientAddress)).start()\n"
   ]
  },
  {
   "cell_type": "code",
   "execution_count": null,
   "metadata": {},
   "outputs": [],
   "source": [
    "import socket\n",
    "import requests\n",
    "\n",
    "def getWeatherData(lat, lon):\n",
    "    apiUrl = f\"https://api.open-meteo.com/v1/forecast?latitude={lat}&longitude={lon}&current_weather=true\"\n",
    "    response = requests.get(apiUrl)\n",
    "    if response.status_code == 200:\n",
    "        return response.json()[\"current_weather\"][\"temperature\"]\n",
    "    return None\n",
    "\n",
    "def sendWeatherData():\n",
    "    temperature = getWeatherData(51.47, -0.0363)\n",
    "    message = f\"Current temperature: {temperature}°C\" if temperature is not None else \"Failed to fetch weather data\"\n",
    "\n",
    "    clientSocket = socket.socket(socket.AF_INET, socket.SOCK_STREAM)\n",
    "    clientSocket.connect(('localhost', 65432))\n",
    "    clientSocket.sendall(message.encode())\n",
    "    clientSocket.close()\n",
    "\n",
    "sendWeatherData()\n"
   ]
  }
 ],
 "metadata": {
  "kernelspec": {
   "display_name": "dp4ai",
   "language": "python",
   "name": "dp4ai"
  },
  "language_info": {
   "codemirror_mode": {
    "name": "ipython",
    "version": 3
   },
   "file_extension": ".py",
   "mimetype": "text/x-python",
   "name": "python",
   "nbconvert_exporter": "python",
   "pygments_lexer": "ipython3",
   "version": "3.12.5"
  }
 },
 "nbformat": 4,
 "nbformat_minor": 2
}
