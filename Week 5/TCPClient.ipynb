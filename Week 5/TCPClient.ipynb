{
 "cells": [
  {
   "cell_type": "code",
   "execution_count": 3,
   "metadata": {},
   "outputs": [
    {
     "name": "stdout",
     "output_type": "stream",
     "text": [
      "Server response: ACK: yo\n",
      "File sent successfully.\n"
     ]
    }
   ],
   "source": [
    "import socket\n",
    "\n",
    "client_socket = socket.socket(socket.AF_INET, socket.SOCK_STREAM)\n",
    "client_socket.connect(('localhost', 65432))\n",
    "\n",
    "message = input(\"Enter message: \")\n",
    "client_socket.sendall(message.encode())\n",
    "\n",
    "response = client_socket.recv(1024)\n",
    "print(f\"Server response: {response.decode()}\")\n",
    "\n",
    "with open(\"file_to_send.txt\", 'rb') as f:\n",
    "    while chunk := f.read(1024):\n",
    "        client_socket.sendall(chunk)\n",
    "\n",
    "print(\"File sent successfully.\")\n",
    "client_socket.close()\n"
   ]
  },
  {
   "cell_type": "code",
   "execution_count": 2,
   "metadata": {},
   "outputs": [
    {
     "name": "stdout",
     "output_type": "stream",
     "text": [
      "Server response: ACK: hello\n",
      "File sent successfully.\n"
     ]
    }
   ],
   "source": [
    "import socket\n",
    "import os\n",
    "\n",
    "clientSocket = socket.socket(socket.AF_INET, socket.SOCK_STREAM)\n",
    "clientSocket.connect(('localhost', 65432))\n",
    "\n",
    "# Send a message\n",
    "message = input(\"Enter message: \")\n",
    "clientSocket.sendall(message.encode())\n",
    "\n",
    "response = clientSocket.recv(1024)\n",
    "print(f\"Server response: {response.decode()}\")\n",
    "\n",
    "# Send file size first\n",
    "filePath = \"file_to_send.txt\"\n",
    "fileSize = os.path.getsize(filePath)\n",
    "clientSocket.sendall(str(fileSize).encode())\n",
    "\n",
    "# Send actual file data\n",
    "with open(filePath, 'rb') as f:\n",
    "    while chunk := f.read(1024):\n",
    "        clientSocket.sendall(chunk)\n",
    "\n",
    "print(\"File sent successfully.\")\n",
    "clientSocket.close()\n"
   ]
  },
  {
   "cell_type": "code",
   "execution_count": null,
   "metadata": {},
   "outputs": [],
   "source": [
    "import socket\n",
    "import threading\n",
    "\n",
    "def receiveMessages(clientSocket):\n",
    "    while True:\n",
    "        try:\n",
    "            message = clientSocket.recv(1024)\n",
    "            if not message:\n",
    "                break\n",
    "            print(f\"\\n{message.decode()}\")\n",
    "        except:\n",
    "            break\n",
    "\n",
    "clientSocket = socket.socket(socket.AF_INET, socket.SOCK_STREAM)\n",
    "clientSocket.connect(('localhost', 65432))\n",
    "\n",
    "threading.Thread(target=receiveMessages, args=(clientSocket,)).start()\n",
    "\n",
    "while True:\n",
    "    message = input()\n",
    "    clientSocket.sendall(message.encode())\n"
   ]
  }
 ],
 "metadata": {
  "kernelspec": {
   "display_name": "dp4ai",
   "language": "python",
   "name": "dp4ai"
  },
  "language_info": {
   "codemirror_mode": {
    "name": "ipython",
    "version": 3
   },
   "file_extension": ".py",
   "mimetype": "text/x-python",
   "name": "python",
   "nbconvert_exporter": "python",
   "pygments_lexer": "ipython3",
   "version": "3.12.5"
  }
 },
 "nbformat": 4,
 "nbformat_minor": 2
}
