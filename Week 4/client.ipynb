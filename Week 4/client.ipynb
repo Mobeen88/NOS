{
 "cells": [
  {
   "cell_type": "code",
   "execution_count": 16,
   "metadata": {},
   "outputs": [],
   "source": [
    "import socket\n",
    "\n",
    "clientSocket = socket.socket(socket.AF_INET, socket.SOCK_DGRAM)\n",
    "\n",
    "ServerAddress = (\"172.20.10.4\", 65433)\n",
    "message = b\"Mobeen: how did we get here.meme\"\n",
    "\n",
    "clientSocket.sendto(message, ServerAddress)\n",
    "clientSocket.close()"
   ]
  },
  {
   "cell_type": "code",
   "execution_count": 5,
   "metadata": {},
   "outputs": [
    {
     "name": "stdout",
     "output_type": "stream",
     "text": [
      "Please enter your username and password\n",
      "Authentication required\n"
     ]
    }
   ],
   "source": [
    "import socket\n",
    "\n",
    "def start_udp_client():\n",
    "    client_socket = socket.socket(socket.AF_INET, socket.SOCK_DGRAM)\n",
    "    server_address = ('localhost', 65433)\n",
    "\n",
    "    message = b\"Hello, UDP Server!\"\n",
    "    \n",
    "    client_socket.sendto(b\"AUTH_REQUEST\", server_address)\n",
    "\n",
    "    data, server = client_socket.recvfrom(2048)\n",
    "    print(data.decode()) \n",
    "\n",
    "    username = input(\"Enter Username: \")\n",
    "    password = input(\"Enter Password: \")\n",
    "\n",
    "    credentials = f\"{username}:{password}\".encode()\n",
    "    client_socket.sendto(credentials, server_address)\n",
    "\n",
    "    data, server = client_socket.recvfrom(2048)\n",
    "    print(data.decode())\n",
    "    \n",
    "    message = input(\"Enter message: \").encode()\n",
    "    client_socket.sendto(message, server_address)\n",
    "\n",
    "    client_socket.close()\n",
    "\n",
    "if __name__ == \"__main__\":\n",
    "    start_udp_client()\n"
   ]
  },
  {
   "cell_type": "code",
   "execution_count": 6,
   "metadata": {},
   "outputs": [
    {
     "name": "stdout",
     "output_type": "stream",
     "text": [
      "Weather data sent!\n"
     ]
    }
   ],
   "source": [
    "import socket\n",
    "import requests\n",
    "\n",
    "def getWeatherData(lat, lon):\n",
    "    apiUrl = f\"https://api.open-meteo.com/v1/forecast?latitude={lat}&longitude={lon}&current_weather=true\"\n",
    "    response = requests.get(apiUrl)\n",
    "    if response.status_code == 200:\n",
    "        return response.json()[\"current_weather\"][\"temperature\"]\n",
    "    return None\n",
    "\n",
    "def sendWeatherData():\n",
    "    universityTemp = getWeatherData(51.47, -0.0363)\n",
    "    libraryTemp = getWeatherData(51.5299, -0.1275)\n",
    "\n",
    "    if universityTemp is not None and libraryTemp is not None:\n",
    "        message = f\"University Temp: {universityTemp}°C, Library Temp: {libraryTemp}°C\"\n",
    "    else:\n",
    "        message = \"Failed to fetch weather data\"\n",
    "\n",
    "    clientSocket = socket.socket(socket.AF_INET, socket.SOCK_DGRAM)\n",
    "    serverAddress = ('localhost', 65433)\n",
    "    clientSocket.sendto(message.encode(), serverAddress)\n",
    "    print(\"Weather data sent!\")\n",
    "    clientSocket.close()\n",
    "\n",
    "sendWeatherData()\n"
   ]
  }
 ],
 "metadata": {
  "kernelspec": {
   "display_name": "dp4ai",
   "language": "python",
   "name": "dp4ai"
  },
  "language_info": {
   "codemirror_mode": {
    "name": "ipython",
    "version": 3
   },
   "file_extension": ".py",
   "mimetype": "text/x-python",
   "name": "python",
   "nbconvert_exporter": "python",
   "pygments_lexer": "ipython3",
   "version": "3.12.5"
  }
 },
 "nbformat": 4,
 "nbformat_minor": 2
}
