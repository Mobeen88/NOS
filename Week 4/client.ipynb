{
 "cells": [
  {
   "cell_type": "code",
   "execution_count": 16,
   "metadata": {},
   "outputs": [],
   "source": [
    "import socket\n",
    "\n",
    "clientSocket = socket.socket(socket.AF_INET, socket.SOCK_DGRAM)\n",
    "\n",
    "ServerAddress = (\"172.20.10.4\", 65433)\n",
    "message = b\"Mobeen: how did we get here.meme\"\n",
    "\n",
    "clientSocket.sendto(message, ServerAddress)\n",
    "clientSocket.close()"
   ]
  }
 ],
 "metadata": {
  "kernelspec": {
   "display_name": "Python 3",
   "language": "python",
   "name": "python3"
  },
  "language_info": {
   "codemirror_mode": {
    "name": "ipython",
    "version": 3
   },
   "file_extension": ".py",
   "mimetype": "text/x-python",
   "name": "python",
   "nbconvert_exporter": "python",
   "pygments_lexer": "ipython3",
   "version": "3.13.0"
  }
 },
 "nbformat": 4,
 "nbformat_minor": 2
}
