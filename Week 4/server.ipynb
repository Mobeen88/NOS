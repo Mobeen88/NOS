{
 "cells": [
  {
   "cell_type": "code",
   "execution_count": null,
   "metadata": {},
   "outputs": [
    {
     "name": "stdout",
     "output_type": "stream",
     "text": [
      "UDP Server is ready to recieve API data...\n",
      "Recieved data from ('127.0.0.1', 58340): Hello, UDP Server\n",
      "Recieved data from ('127.0.0.1', 53081): goodbye\n"
     ]
    }
   ],
   "source": [
    "import socket\n",
    "\n",
    "serverSocket = socket.socket(socket.AF_INET, socket.SOCK_DGRAM)\n",
    "serverSocket.bind(('localhost', 65433))\n",
    "\n",
    "print(\"UDP Server is ready to recieve API data...\")\n",
    "\n",
    "while True:\n",
    "    data, clientAddress = serverSocket.recvfrom(2048)\n",
    "    print(f\"Recieved data from {clientAddress}: {data.decode()}\")"
   ]
  },
  {
   "cell_type": "code",
   "execution_count": null,
   "metadata": {},
   "outputs": [
    {
     "name": "stdout",
     "output_type": "stream",
     "text": [
      "UDP Server is ready to receive messages...\n",
      "Received data from ('127.0.0.1', 50896): AUTH_REQUEST\n",
      "Received data from ('127.0.0.1', 50896): bob:2334\n",
      "Received data from ('127.0.0.1', 50896): hello there\n",
      "Error: [WinError 10054] An existing connection was forcibly closed by the remote host\n",
      "Received data from ('127.0.0.1', 61287): AUTH_REQUEST\n",
      "Received data from ('127.0.0.1', 60672): AUTH_REQUEST\n",
      "Received data from ('127.0.0.1', 60672): :\n",
      "Received data from ('127.0.0.1', 60672): \n",
      "Error: [WinError 10054] An existing connection was forcibly closed by the remote host\n"
     ]
    }
   ],
   "source": [
    "import socket\n",
    "\n",
    "def startUdpServer():\n",
    "    server_socket = socket.socket(socket.AF_INET, socket.SOCK_DGRAM)\n",
    "    server_socket.bind(('localhost', 65433))\n",
    "    print(\"UDP Server is ready to receive messages...\")\n",
    "\n",
    "    users = {}\n",
    "\n",
    "    while True:\n",
    "        try:\n",
    "            data, client_address = server_socket.recvfrom(2048)\n",
    "            print(f\"Received data from {client_address}: {data.decode()}\")\n",
    "\n",
    "            if client_address not in users:\n",
    "                if data.decode() == \"AUTH_REQUEST\":\n",
    "                    server_socket.sendto(b\"Please enter your username and password\", client_address)\n",
    "                elif data.decode().startswith(\"AUTH:\"):\n",
    "                    username, password = data.decode().split(\":\")[1], data.decode().split(\":\")[2]\n",
    "                    if username == \"user\" and password == \"pass\":\n",
    "                        users[client_address] = username\n",
    "                        server_socket.sendto(b\"Authentication successful. Start chatting!\", client_address)\n",
    "                    else:\n",
    "                        server_socket.sendto(b\"Authentication failed. Try again.\", client_address)\n",
    "                else:\n",
    "                    server_socket.sendto(b\"Authentication required\", client_address)\n",
    "            else:\n",
    "                print(f\"Message from {client_address}: {data.decode()}\")\n",
    "                message = f\"Message from {users[client_address]}: {data.decode()}\"\n",
    "                for user in users:\n",
    "                    if user != client_address:\n",
    "                        server_socket.sendto(message.encode(), user)\n",
    "        \n",
    "        except Exception as e:\n",
    "            print(f\"Error: {e}\")\n",
    "    \n",
    "    server_socket.close()\n",
    "\n",
    "if __name__ == \"__main__\":\n",
    "    startUdpServer()\n"
   ]
  }
 ],
 "metadata": {
  "kernelspec": {
   "display_name": "dp4ai",
   "language": "python",
   "name": "dp4ai"
  },
  "language_info": {
   "codemirror_mode": {
    "name": "ipython",
    "version": 3
   },
   "file_extension": ".py",
   "mimetype": "text/x-python",
   "name": "python",
   "nbconvert_exporter": "python",
   "pygments_lexer": "ipython3",
   "version": "3.12.5"
  }
 },
 "nbformat": 4,
 "nbformat_minor": 2
}
