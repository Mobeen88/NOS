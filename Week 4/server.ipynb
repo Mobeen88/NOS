{
 "cells": [
  {
   "cell_type": "code",
   "execution_count": null,
   "metadata": {},
   "outputs": [
    {
     "name": "stdout",
     "output_type": "stream",
     "text": [
      "UDP Server is ready to recieve API data...\n",
      "Recieved data from ('127.0.0.1', 58340): Hello, UDP Server\n",
      "Recieved data from ('127.0.0.1', 53081): goodbye\n"
     ]
    }
   ],
   "source": [
    "import socket\n",
    "\n",
    "serverSocket = socket.socket(socket.AF_INET, socket.SOCK_DGRAM)\n",
    "serverSocket.bind(('localhost', 65433))\n",
    "\n",
    "print(\"UDP Server is ready to recieve API data...\")\n",
    "\n",
    "while True:\n",
    "    data, clientAddress = serverSocket.recvfrom(2048)\n",
    "    print(f\"Recieved data from {clientAddress}: {data.decode()}\")"
   ]
  }
 ],
 "metadata": {
  "kernelspec": {
   "display_name": "Python 3",
   "language": "python",
   "name": "python3"
  },
  "language_info": {
   "codemirror_mode": {
    "name": "ipython",
    "version": 3
   },
   "file_extension": ".py",
   "mimetype": "text/x-python",
   "name": "python",
   "nbconvert_exporter": "python",
   "pygments_lexer": "ipython3",
   "version": "3.13.0"
  }
 },
 "nbformat": 4,
 "nbformat_minor": 2
}
