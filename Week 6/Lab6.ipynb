{
 "cells": [
  {
   "cell_type": "code",
   "execution_count": null,
   "metadata": {},
   "outputs": [],
   "source": [
    "import ipaddress\n",
    "\n",
    "def analyseIP(ip_str):\n",
    "    ip = ipaddress.ip_interface(ip_str)\n",
    "\n",
    "    print(f\"Address: {ip.ip}\")\n",
    "    print(f\"Network: {ip.network}\")\n",
    "    print(f\"Netmask: {ip.netmask}\")\n",
    "    print(f\"Is Private: {ip.ip.is_private}\")\n",
    "    print(f\"Is Global: {ip.ip.is_global}\")\n",
    "\n",
    "    if ip.network.num_addresses < 256:\n",
    "        print(\"\\nHosts in netwokrk: \")\n",
    "        for host in ip.network.hosts():\n",
    "            print(host)\n",
    "\n",
    "analyseIP"
   ]
  }
 ],
 "metadata": {
  "language_info": {
   "name": "python"
  }
 },
 "nbformat": 4,
 "nbformat_minor": 2
}
