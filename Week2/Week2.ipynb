{
 "cells": [
  {
   "cell_type": "code",
   "execution_count": 13,
   "metadata": {},
   "outputs": [
    {
     "name": "stdout",
     "output_type": "stream",
     "text": [
      "Hello World!\n"
     ]
    }
   ],
   "source": [
    "print(\"Hello World!\")\n",
    "x = 10\n",
    "y = 4"
   ]
  },
  {
   "cell_type": "code",
   "execution_count": 14,
   "metadata": {},
   "outputs": [
    {
     "name": "stdout",
     "output_type": "stream",
     "text": [
      "14\n"
     ]
    }
   ],
   "source": [
    "print(x+y)"
   ]
  },
  {
   "cell_type": "code",
   "execution_count": 16,
   "metadata": {},
   "outputs": [
    {
     "name": "stdout",
     "output_type": "stream",
     "text": [
      "6\n"
     ]
    }
   ],
   "source": [
    "print(x-y)"
   ]
  },
  {
   "cell_type": "code",
   "execution_count": 18,
   "metadata": {},
   "outputs": [
    {
     "name": "stdout",
     "output_type": "stream",
     "text": [
      "40\n"
     ]
    }
   ],
   "source": [
    "print(x*y)"
   ]
  },
  {
   "cell_type": "code",
   "execution_count": 20,
   "metadata": {},
   "outputs": [
    {
     "name": "stdout",
     "output_type": "stream",
     "text": [
      "5.0\n"
     ]
    }
   ],
   "source": [
    "print(x/2)"
   ]
  },
  {
   "cell_type": "code",
   "execution_count": 23,
   "metadata": {},
   "outputs": [
    {
     "name": "stdout",
     "output_type": "stream",
     "text": [
      "2\n"
     ]
    }
   ],
   "source": [
    "print(x//y)"
   ]
  },
  {
   "cell_type": "code",
   "execution_count": 41,
   "metadata": {},
   "outputs": [
    {
     "name": "stdout",
     "output_type": "stream",
     "text": [
      "100\n"
     ]
    }
   ],
   "source": [
    "base = 2\n",
    "print(x ** base)"
   ]
  },
  {
   "cell_type": "code",
   "execution_count": 43,
   "metadata": {},
   "outputs": [
    {
     "name": "stdout",
     "output_type": "stream",
     "text": [
      "['mango', 'watermelon', 'lychee', 'blueberries', 'plums']\n"
     ]
    }
   ],
   "source": [
    "fruit = [\"mango\", \"watermelon\", \"lychee\", \"blueberries\", \"plums\"]\n",
    "print(fruit)"
   ]
  },
  {
   "cell_type": "code",
   "execution_count": 47,
   "metadata": {},
   "outputs": [
    {
     "name": "stdout",
     "output_type": "stream",
     "text": [
      "('sharks', 'tiger', 'panda')\n"
     ]
    }
   ],
   "source": [
    "animals = (\"sharks\", \"tiger\", \"panda\")\n",
    "print(animals)"
   ]
  },
  {
   "cell_type": "code",
   "execution_count": 49,
   "metadata": {},
   "outputs": [
    {
     "name": "stdout",
     "output_type": "stream",
     "text": [
      "{'Cobol': 1959, 'Python': 1991, 'Java': 1995}\n"
     ]
    }
   ],
   "source": [
    "languages = {\n",
    "    \"Cobol\": 1959,\n",
    "    \"Python\": 1991,\n",
    "    \"Java\": 1995\n",
    "}\n",
    "\n",
    "print(languages)"
   ]
  },
  {
   "cell_type": "code",
   "execution_count": 51,
   "metadata": {},
   "outputs": [
    {
     "name": "stdout",
     "output_type": "stream",
     "text": [
      "{'green', 'blue', 'red'}\n"
     ]
    }
   ],
   "source": [
    "colours = {\"red\", \"green\", \"blue\"}\n",
    "print(colours)"
   ]
  },
  {
   "cell_type": "code",
   "execution_count": 53,
   "metadata": {},
   "outputs": [
    {
     "name": "stdout",
     "output_type": "stream",
     "text": [
      "Python is an easy-to-learn programming language.\n"
     ]
    }
   ],
   "source": [
    "text = (\"Python is an easy-to-learn programming language.\")\n",
    "print(text)"
   ]
  },
  {
   "cell_type": "code",
   "execution_count": 68,
   "metadata": {},
   "outputs": [
    {
     "name": "stdout",
     "output_type": "stream",
     "text": [
      "5  is positive\n"
     ]
    }
   ],
   "source": [
    "num = int(input(\"Enter a number: \"))\n",
    "\n",
    "if(num > 0):\n",
    "    print(num, \" is positive\")\n",
    "elif(num < 0):\n",
    "    print(num, \" is negative\")\n",
    "elif(num == 0):\n",
    "    print(num, \" is zero\")\n",
    "else:\n",
    "    print(num, \" is invalid\")"
   ]
  },
  {
   "cell_type": "code",
   "execution_count": 10,
   "metadata": {},
   "outputs": [
    {
     "name": "stdout",
     "output_type": "stream",
     "text": [
      "Doesn't start with a vowel\n"
     ]
    }
   ],
   "source": [
    "word = input(\"Enter a sentence: \")\n",
    "\n",
    "if(word[0] == \"a\" or word[0] == \"i\" or word[0] == \"u\" or word[0] == \"e\" or word[0] == \"o\"):\n",
    "    print(\"starts with a vowel\")\n",
    "else:\n",
    "    print(\"Doesn't start with a vowel\")"
   ]
  },
  {
   "cell_type": "code",
   "execution_count": 8,
   "metadata": {},
   "outputs": [
    {
     "name": "stdout",
     "output_type": "stream",
     "text": [
      "not equal\n"
     ]
    }
   ],
   "source": [
    "num1 = int(input())\n",
    "num2 = int(input())\n",
    "\n",
    "if(num1 == num2):\n",
    "    print(\"equal\")\n",
    "else:\n",
    "    print(\"not equal\")"
   ]
  },
  {
   "cell_type": "code",
   "execution_count": 10,
   "metadata": {},
   "outputs": [
    {
     "name": "stdout",
     "output_type": "stream",
     "text": [
      "0\n",
      "1\n",
      "2\n",
      "3\n",
      "4\n",
      "5\n",
      "6\n",
      "7\n",
      "8\n",
      "9\n",
      "10\n"
     ]
    }
   ],
   "source": [
    "for i in range(0,11):\n",
    "    print(i)"
   ]
  },
  {
   "cell_type": "code",
   "execution_count": 17,
   "metadata": {},
   "outputs": [
    {
     "name": "stdout",
     "output_type": "stream",
     "text": [
      "0\n",
      "2\n",
      "4\n",
      "6\n",
      "8\n",
      "10\n"
     ]
    }
   ],
   "source": [
    "for i in range(0, 11, 2):\n",
    "    print(i)"
   ]
  },
  {
   "cell_type": "code",
   "execution_count": 43,
   "metadata": {},
   "outputs": [
    {
     "name": "stdout",
     "output_type": "stream",
     "text": [
      "1\n",
      "2\n",
      "3\n",
      "5\n",
      "8\n",
      "\n"
     ]
    }
   ],
   "source": [
    "n = 5\n",
    "num1 = 0\n",
    "num2 = 1\n",
    "next = num2  \n",
    "count = 1\n",
    "\n",
    "while count <= n:\n",
    "    print(next)\n",
    "    count += 1\n",
    "    num1, num2 = num2, next\n",
    "    next = num1 + num2\n",
    "print()"
   ]
  },
  {
   "cell_type": "code",
   "execution_count": 37,
   "metadata": {},
   "outputs": [
    {
     "data": {
      "text/plain": [
       "15"
      ]
     },
     "execution_count": 37,
     "metadata": {},
     "output_type": "execute_result"
    }
   ],
   "source": [
    "def Sum(x,y):\n",
    "    return(x + y)\n",
    "\n",
    "Sum(5,10)"
   ]
  },
  {
   "cell_type": "code",
   "execution_count": null,
   "metadata": {},
   "outputs": [
    {
     "data": {
      "text/plain": [
       "94"
      ]
     },
     "execution_count": 5,
     "metadata": {},
     "output_type": "execute_result"
    }
   ],
   "source": [
    "def greater(list = []):\n",
    "    list = [10, 34, 84, 12, 94, 53]\n",
    "    return(max(list))\n",
    "\n",
    "greater()"
   ]
  },
  {
   "cell_type": "code",
   "execution_count": null,
   "metadata": {},
   "outputs": [
    {
     "name": "stdout",
     "output_type": "stream",
     "text": [
      "The number is negative.\n"
     ]
    }
   ],
   "source": []
  },
  {
   "cell_type": "code",
   "execution_count": 14,
   "metadata": {},
   "outputs": [
    {
     "name": "stdout",
     "output_type": "stream",
     "text": [
      "Number of vowels: 12\n"
     ]
    }
   ],
   "source": [
    "def countVowels(s):\n",
    "    vowels = \"aeiouAEIOU\"\n",
    "    count = 0\n",
    "    \n",
    "    for char in s:\n",
    "        if char in vowels:\n",
    "            count += 1\n",
    "    \n",
    "    return count\n",
    "\n",
    "text = input(\"Enter\")\n",
    "print(\"Number of vowels:\", countVowels(text))\n"
   ]
  },
  {
   "cell_type": "code",
   "execution_count": null,
   "metadata": {},
   "outputs": [
    {
     "name": "stdout",
     "output_type": "stream",
     "text": [
      "Password is strong.\n",
      "Password must contain at least one uppercase letter.\n"
     ]
    }
   ],
   "source": [
    "import re\n",
    "\n",
    "def checkPasswordStrength(password):\n",
    "    if len(password) < 8:\n",
    "        return \"Password must be at least 8 characters long.\"\n",
    "    \n",
    "    if not any(char.isupper() for char in password):\n",
    "        return \"Password must contain at least one uppercase letter.\"\n",
    "    \n",
    "    if not any(char.islower() for char in password):\n",
    "        return \"Password must contain at least one lowercase letter.\"\n",
    "    \n",
    "    if not any(char in \"@#$%^&*()_+![]{}|;:,.<>?/~`\" for char in password):\n",
    "        return \"Password must contain at least one special character.\"\n",
    "    \n",
    "    return \"Password is strong.\"\n",
    "\n",
    "password1 = \"Pa$$word123\"\n",
    "password2 = \"password\"\n",
    "print(checkPasswordStrength(password1))  \n",
    "print(checkPasswordStrength(password2))"
   ]
  },
  {
   "cell_type": "code",
   "execution_count": null,
   "metadata": {},
   "outputs": [
    {
     "name": "stdout",
     "output_type": "stream",
     "text": [
      "KHOOR\n",
      "HELLO\n"
     ]
    }
   ],
   "source": [
    "def CaesarCipher(message, key, mode):\n",
    "    result = \"\"\n",
    "    for char in message:\n",
    "        if char.isalpha():\n",
    "            shift = key if mode == \"encrypt\" else -key\n",
    "            shifted_char = chr((ord(char.upper()) - 65 + shift) % 26 + 65)\n",
    "            result += shifted_char if char.isupper() else shifted_char.lower()\n",
    "        else:\n",
    "            result += char\n",
    "    return result\n",
    "\n",
    "message = \"HELLO\"\n",
    "key = 3\n",
    "mode = \"encrypt\"\n",
    "print(CaesarCipher(message, key, mode))\n",
    "\n",
    "message = \"KHOOR\"\n",
    "key = 3\n",
    "mode = \"decrypt\"\n",
    "print(CaesarCipher(message, key, mode))\n"
   ]
  },
  {
   "cell_type": "code",
   "execution_count": 18,
   "metadata": {},
   "outputs": [
    {
     "name": "stdout",
     "output_type": "stream",
     "text": [
      "_ _ _ _ _ _ _ _ _ _\n",
      "b _ _ _ _ _ _ _ _ _\n",
      "b o _ _ _ _ _ _ _ _\n",
      "b o t t _ _ _ _ _ _\n",
      "You already guessed that letter!\n",
      "b o t t _ _ _ _ _ _\n",
      "b o t t l _ _ _ _ _\n",
      "b o t t l _ _ _ _ _\n",
      "b o t t l _ n _ _ _\n",
      "b o t t l e n e _ _\n",
      "b o t t l e n e c _\n",
      "Congratulations, you have guessed the word 'bottleneck'!\n"
     ]
    }
   ],
   "source": [
    "import random\n",
    "\n",
    "def HangmanGame(word_list, max_guesses):\n",
    "    word = random.choice(word_list)\n",
    "    guessed_word = [\"_\"] * len(word)\n",
    "    guessed_letters = set()\n",
    "    incorrect_guesses = 0\n",
    "    \n",
    "    while incorrect_guesses < max_guesses and \"_\" in guessed_word:\n",
    "        print(\" \".join(guessed_word))\n",
    "        guess = input(\"Guess a letter: \").lower()\n",
    "        \n",
    "        if guess in guessed_letters:\n",
    "            print(\"You already guessed that letter!\")\n",
    "            continue\n",
    "        \n",
    "        guessed_letters.add(guess)\n",
    "        \n",
    "        if guess in word:\n",
    "            for i in range(len(word)):\n",
    "                if word[i] == guess:\n",
    "                    guessed_word[i] = guess\n",
    "        else:\n",
    "            incorrect_guesses += 1\n",
    "        \n",
    "    if \"_\" not in guessed_word:\n",
    "        print(f\"Congratulations, you have guessed the word '{word}'!\")\n",
    "    else:\n",
    "        print(f\"Sorry, you have lost. The word was: '{word}'.\")\n",
    "\n",
    "word_list = [\"python\", \"console\", \"bottleneck\"]\n",
    "max_guesses = 6\n",
    "HangmanGame(word_list, max_guesses)"
   ]
  }
 ],
 "metadata": {
  "kernelspec": {
   "display_name": "dp4ai",
   "language": "python",
   "name": "dp4ai"
  },
  "language_info": {
   "codemirror_mode": {
    "name": "ipython",
    "version": 3
   },
   "file_extension": ".py",
   "mimetype": "text/x-python",
   "name": "python",
   "nbconvert_exporter": "python",
   "pygments_lexer": "ipython3",
   "version": "3.12.5"
  }
 },
 "nbformat": 4,
 "nbformat_minor": 2
}
